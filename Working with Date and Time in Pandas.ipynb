{
 "cells": [
  {
   "cell_type": "markdown",
   "metadata": {},
   "source": [
    "## Working with Date and Time in Pandas\n",
    "watch full video here: https://youtu.be/JD1wfsNXikI\n",
    " "
   ]
  },
  {
   "cell_type": "code",
   "execution_count": 1,
   "metadata": {},
   "outputs": [],
   "source": [
    "import pandas as pd\n",
    "import datetime as dt"
   ]
  },
  {
   "cell_type": "markdown",
   "metadata": {},
   "source": [
    "### Review Python's `datetime` module "
   ]
  },
  {
   "cell_type": "code",
   "execution_count": 2,
   "metadata": {},
   "outputs": [],
   "source": [
    "today = dt.date(2019, 12, 22)"
   ]
  },
  {
   "cell_type": "code",
   "execution_count": 5,
   "metadata": {},
   "outputs": [
    {
     "data": {
      "text/plain": [
       "2019"
      ]
     },
     "execution_count": 5,
     "metadata": {},
     "output_type": "execute_result"
    }
   ],
   "source": [
    "today.day\n",
    "today.month\n",
    "today.year"
   ]
  },
  {
   "cell_type": "code",
   "execution_count": 6,
   "metadata": {},
   "outputs": [],
   "source": [
    "today = dt.datetime(2019, 12, 22, 17, 13, 34)"
   ]
  },
  {
   "cell_type": "code",
   "execution_count": 7,
   "metadata": {},
   "outputs": [
    {
     "name": "stdout",
     "output_type": "stream",
     "text": [
      "2019-12-22 17:13:34\n"
     ]
    }
   ],
   "source": [
    "print(today)"
   ]
  },
  {
   "cell_type": "code",
   "execution_count": 12,
   "metadata": {},
   "outputs": [
    {
     "data": {
      "text/plain": [
       "34"
      ]
     },
     "execution_count": 12,
     "metadata": {},
     "output_type": "execute_result"
    }
   ],
   "source": [
    "today.hour\n",
    "today.minute\n",
    "today.second"
   ]
  },
  {
   "cell_type": "markdown",
   "metadata": {},
   "source": [
    "### `Timestamp` "
   ]
  },
  {
   "cell_type": "code",
   "execution_count": 26,
   "metadata": {},
   "outputs": [
    {
     "data": {
      "text/plain": [
       "Timestamp('2019-12-22 17:23:45')"
      ]
     },
     "execution_count": 26,
     "metadata": {},
     "output_type": "execute_result"
    }
   ],
   "source": [
    "pd.Timestamp(\"2019-12-22\")\n",
    "pd.Timestamp(\"2019/12/22\")\n",
    "pd.Timestamp(\"2019, 12, 22\")\n",
    "pd.Timestamp(\"2019-12-22 17:23:45\")\n",
    "pd.Timestamp(\"2019-12-22 05:23:45 PM\")"
   ]
  },
  {
   "cell_type": "markdown",
   "metadata": {},
   "source": [
    "### `DateTimeIndex` "
   ]
  },
  {
   "cell_type": "code",
   "execution_count": 27,
   "metadata": {},
   "outputs": [],
   "source": [
    "dates = ['2019/12/22', '2019/12/23', '2019/12/24']"
   ]
  },
  {
   "cell_type": "code",
   "execution_count": 28,
   "metadata": {},
   "outputs": [
    {
     "data": {
      "text/plain": [
       "DatetimeIndex(['2019-12-22', '2019-12-23', '2019-12-24'], dtype='datetime64[ns]', freq=None)"
      ]
     },
     "execution_count": 28,
     "metadata": {},
     "output_type": "execute_result"
    }
   ],
   "source": [
    "pd.DatetimeIndex(dates)"
   ]
  },
  {
   "cell_type": "code",
   "execution_count": 30,
   "metadata": {},
   "outputs": [
    {
     "data": {
      "text/plain": [
       "list"
      ]
     },
     "execution_count": 30,
     "metadata": {},
     "output_type": "execute_result"
    }
   ],
   "source": [
    "type(dates)"
   ]
  },
  {
   "cell_type": "code",
   "execution_count": 32,
   "metadata": {},
   "outputs": [],
   "source": [
    "dates = [dt.date(2019, 12, 22), dt.date(2019, 12, 23), dt.date(2019, 12, 24)]"
   ]
  },
  {
   "cell_type": "code",
   "execution_count": 34,
   "metadata": {},
   "outputs": [
    {
     "data": {
      "text/plain": [
       "DatetimeIndex(['2019-12-22', '2019-12-23', '2019-12-24'], dtype='datetime64[ns]', freq=None)"
      ]
     },
     "execution_count": 34,
     "metadata": {},
     "output_type": "execute_result"
    }
   ],
   "source": [
    "dateIndex = pd.DatetimeIndex(dates)\n",
    "dateIndex"
   ]
  },
  {
   "cell_type": "code",
   "execution_count": 35,
   "metadata": {},
   "outputs": [
    {
     "data": {
      "text/plain": [
       "2019-12-22    12\n",
       "2019-12-23    13\n",
       "2019-12-24    10\n",
       "dtype: int64"
      ]
     },
     "execution_count": 35,
     "metadata": {},
     "output_type": "execute_result"
    }
   ],
   "source": [
    "values = [12, 13, 10]\n",
    "pd.Series(data = values, index = dateIndex)"
   ]
  },
  {
   "cell_type": "markdown",
   "metadata": {},
   "source": [
    "### `pd.to_datetime()` "
   ]
  },
  {
   "cell_type": "code",
   "execution_count": 37,
   "metadata": {},
   "outputs": [
    {
     "data": {
      "text/plain": [
       "Timestamp('2019-12-22 00:00:00')"
      ]
     },
     "execution_count": 37,
     "metadata": {},
     "output_type": "execute_result"
    }
   ],
   "source": [
    "pd.to_datetime('2019/12/22')"
   ]
  },
  {
   "cell_type": "code",
   "execution_count": 38,
   "metadata": {},
   "outputs": [
    {
     "data": {
      "text/plain": [
       "Timestamp('2019-12-22 00:00:00')"
      ]
     },
     "execution_count": 38,
     "metadata": {},
     "output_type": "execute_result"
    }
   ],
   "source": [
    "pd.to_datetime(dt.date(2019, 12, 22))"
   ]
  },
  {
   "cell_type": "code",
   "execution_count": 39,
   "metadata": {},
   "outputs": [
    {
     "data": {
      "text/plain": [
       "Timestamp('2019-12-22 17:23:45')"
      ]
     },
     "execution_count": 39,
     "metadata": {},
     "output_type": "execute_result"
    }
   ],
   "source": [
    "pd.to_datetime(dt.datetime(2019, 12, 22, 17, 23, 45))"
   ]
  },
  {
   "cell_type": "code",
   "execution_count": 40,
   "metadata": {},
   "outputs": [
    {
     "data": {
      "text/plain": [
       "DatetimeIndex(['2019-12-22', '2019-12-23', '2019-12-24'], dtype='datetime64[ns]', freq=None)"
      ]
     },
     "execution_count": 40,
     "metadata": {},
     "output_type": "execute_result"
    }
   ],
   "source": [
    "dates = ['2019/12/22', '2019/12/23', '2019/12/24']\n",
    "pd.to_datetime(dates)"
   ]
  },
  {
   "cell_type": "code",
   "execution_count": 44,
   "metadata": {},
   "outputs": [],
   "source": [
    "dates = pd.Series(['December 22nd, 2019', \"2019, 12, 22\", \"This is Date\", 'Dec 23rd, 2019', '24th Dec, 2019'])"
   ]
  },
  {
   "cell_type": "code",
   "execution_count": 45,
   "metadata": {},
   "outputs": [
    {
     "data": {
      "text/plain": [
       "0    December 22nd, 2019\n",
       "1           2019, 12, 22\n",
       "2           This is Date\n",
       "3         Dec 23rd, 2019\n",
       "4         24th Dec, 2019\n",
       "dtype: object"
      ]
     },
     "execution_count": 45,
     "metadata": {},
     "output_type": "execute_result"
    }
   ],
   "source": [
    "dates"
   ]
  },
  {
   "cell_type": "code",
   "execution_count": 46,
   "metadata": {},
   "outputs": [
    {
     "data": {
      "text/plain": [
       "0   2019-12-22\n",
       "1   2019-12-22\n",
       "2          NaT\n",
       "3   2019-12-23\n",
       "4   2019-12-24\n",
       "dtype: datetime64[ns]"
      ]
     },
     "execution_count": 46,
     "metadata": {},
     "output_type": "execute_result"
    }
   ],
   "source": [
    "pd.to_datetime(dates, errors='coerce')"
   ]
  },
  {
   "cell_type": "code",
   "execution_count": 47,
   "metadata": {},
   "outputs": [],
   "source": [
    "unixtime = [12344563, 23456323, 34567534, 23483922]"
   ]
  },
  {
   "cell_type": "code",
   "execution_count": 48,
   "metadata": {},
   "outputs": [
    {
     "data": {
      "text/plain": [
       "DatetimeIndex(['1970-05-23 21:02:43', '1970-09-29 11:38:43',\n",
       "               '1971-02-05 02:05:34', '1970-09-29 19:18:42'],\n",
       "              dtype='datetime64[ns]', freq=None)"
      ]
     },
     "execution_count": 48,
     "metadata": {},
     "output_type": "execute_result"
    }
   ],
   "source": [
    "pd.to_datetime(unixtime, unit='s')"
   ]
  },
  {
   "cell_type": "markdown",
   "metadata": {},
   "source": [
    "### Create Range in the form of Date `pd.date_range()` "
   ]
  },
  {
   "cell_type": "code",
   "execution_count": 51,
   "metadata": {},
   "outputs": [],
   "source": [
    "times = pd.date_range(start = \"2019-12-22\", end = \"2020-12-22\", freq = 'D')"
   ]
  },
  {
   "cell_type": "code",
   "execution_count": 52,
   "metadata": {},
   "outputs": [
    {
     "data": {
      "text/plain": [
       "DatetimeIndex(['2019-12-22', '2019-12-23', '2019-12-24', '2019-12-25',\n",
       "               '2019-12-26', '2019-12-27', '2019-12-28', '2019-12-29',\n",
       "               '2019-12-30', '2019-12-31',\n",
       "               ...\n",
       "               '2020-12-13', '2020-12-14', '2020-12-15', '2020-12-16',\n",
       "               '2020-12-17', '2020-12-18', '2020-12-19', '2020-12-20',\n",
       "               '2020-12-21', '2020-12-22'],\n",
       "              dtype='datetime64[ns]', length=367, freq='D')"
      ]
     },
     "execution_count": 52,
     "metadata": {},
     "output_type": "execute_result"
    }
   ],
   "source": [
    "times"
   ]
  },
  {
   "cell_type": "code",
   "execution_count": 57,
   "metadata": {},
   "outputs": [
    {
     "data": {
      "text/plain": [
       "DatetimeIndex(['2019-12-22', '2020-01-19', '2020-02-16', '2020-03-15',\n",
       "               '2020-04-12', '2020-05-10', '2020-06-07', '2020-07-05',\n",
       "               '2020-08-02', '2020-08-30', '2020-09-27', '2020-10-25',\n",
       "               '2020-11-22', '2020-12-20', '2021-01-17', '2021-02-14',\n",
       "               '2021-03-14', '2021-04-11', '2021-05-09', '2021-06-06',\n",
       "               '2021-07-04', '2021-08-01', '2021-08-29', '2021-09-26',\n",
       "               '2021-10-24', '2021-11-21', '2021-12-19', '2022-01-16',\n",
       "               '2022-02-13', '2022-03-13', '2022-04-10', '2022-05-08',\n",
       "               '2022-06-05', '2022-07-03', '2022-07-31', '2022-08-28',\n",
       "               '2022-09-25', '2022-10-23', '2022-11-20', '2022-12-18',\n",
       "               '2023-01-15', '2023-02-12', '2023-03-12', '2023-04-09',\n",
       "               '2023-05-07', '2023-06-04', '2023-07-02', '2023-07-30',\n",
       "               '2023-08-27', '2023-09-24', '2023-10-22', '2023-11-19',\n",
       "               '2023-12-17'],\n",
       "              dtype='datetime64[ns]', freq='4W-SUN')"
      ]
     },
     "execution_count": 57,
     "metadata": {},
     "output_type": "execute_result"
    }
   ],
   "source": [
    "times = pd.date_range(start = \"2019-12-22\", end = \"2023-12-22\", freq = '4W')\n",
    "times"
   ]
  },
  {
   "cell_type": "code",
   "execution_count": 61,
   "metadata": {},
   "outputs": [
    {
     "data": {
      "text/plain": [
       "DatetimeIndex(['2019-12-22 00:00:00', '2019-12-22 01:00:00',\n",
       "               '2019-12-22 02:00:00', '2019-12-22 03:00:00',\n",
       "               '2019-12-22 04:00:00', '2019-12-22 05:00:00',\n",
       "               '2019-12-22 06:00:00', '2019-12-22 07:00:00',\n",
       "               '2019-12-22 08:00:00', '2019-12-22 09:00:00',\n",
       "               ...\n",
       "               '2019-12-29 15:00:00', '2019-12-29 16:00:00',\n",
       "               '2019-12-29 17:00:00', '2019-12-29 18:00:00',\n",
       "               '2019-12-29 19:00:00', '2019-12-29 20:00:00',\n",
       "               '2019-12-29 21:00:00', '2019-12-29 22:00:00',\n",
       "               '2019-12-29 23:00:00', '2019-12-30 00:00:00'],\n",
       "              dtype='datetime64[ns]', length=193, freq='H')"
      ]
     },
     "execution_count": 61,
     "metadata": {},
     "output_type": "execute_result"
    }
   ],
   "source": [
    "times = pd.date_range(start = \"2019-12-22\", end = \"2019-12-30\", freq = 'H')\n",
    "times"
   ]
  },
  {
   "cell_type": "markdown",
   "metadata": {},
   "source": [
    "### Import Stock Data using `datareader` "
   ]
  },
  {
   "cell_type": "code",
   "execution_count": 64,
   "metadata": {},
   "outputs": [],
   "source": [
    "from pandas_datareader import data"
   ]
  },
  {
   "cell_type": "code",
   "execution_count": 65,
   "metadata": {},
   "outputs": [],
   "source": [
    "# !pip install pandas_datareader"
   ]
  },
  {
   "cell_type": "code",
   "execution_count": 66,
   "metadata": {},
   "outputs": [],
   "source": [
    "company = \"MSFT\"\n",
    "start = \"2019-01-01\"\n",
    "end = \"2019-12-22\""
   ]
  },
  {
   "cell_type": "code",
   "execution_count": 71,
   "metadata": {},
   "outputs": [],
   "source": [
    "stocks = data.DataReader(name = company, data_source=\"yahoo\", start = start, end = end)"
   ]
  },
  {
   "cell_type": "code",
   "execution_count": 72,
   "metadata": {},
   "outputs": [
    {
     "data": {
      "text/html": [
       "<div>\n",
       "<style scoped>\n",
       "    .dataframe tbody tr th:only-of-type {\n",
       "        vertical-align: middle;\n",
       "    }\n",
       "\n",
       "    .dataframe tbody tr th {\n",
       "        vertical-align: top;\n",
       "    }\n",
       "\n",
       "    .dataframe thead th {\n",
       "        text-align: right;\n",
       "    }\n",
       "</style>\n",
       "<table border=\"1\" class=\"dataframe\">\n",
       "  <thead>\n",
       "    <tr style=\"text-align: right;\">\n",
       "      <th></th>\n",
       "      <th>High</th>\n",
       "      <th>Low</th>\n",
       "      <th>Open</th>\n",
       "      <th>Close</th>\n",
       "      <th>Volume</th>\n",
       "      <th>Adj Close</th>\n",
       "    </tr>\n",
       "    <tr>\n",
       "      <th>Date</th>\n",
       "      <th></th>\n",
       "      <th></th>\n",
       "      <th></th>\n",
       "      <th></th>\n",
       "      <th></th>\n",
       "      <th></th>\n",
       "    </tr>\n",
       "  </thead>\n",
       "  <tbody>\n",
       "    <tr>\n",
       "      <td>2018-12-31</td>\n",
       "      <td>102.400002</td>\n",
       "      <td>100.440002</td>\n",
       "      <td>101.290001</td>\n",
       "      <td>101.570000</td>\n",
       "      <td>33173800.0</td>\n",
       "      <td>100.090057</td>\n",
       "    </tr>\n",
       "    <tr>\n",
       "      <td>2019-01-02</td>\n",
       "      <td>101.750000</td>\n",
       "      <td>98.940002</td>\n",
       "      <td>99.550003</td>\n",
       "      <td>101.120003</td>\n",
       "      <td>35329300.0</td>\n",
       "      <td>99.646614</td>\n",
       "    </tr>\n",
       "    <tr>\n",
       "      <td>2019-01-03</td>\n",
       "      <td>100.190002</td>\n",
       "      <td>97.199997</td>\n",
       "      <td>100.099998</td>\n",
       "      <td>97.400002</td>\n",
       "      <td>42579100.0</td>\n",
       "      <td>95.980820</td>\n",
       "    </tr>\n",
       "    <tr>\n",
       "      <td>2019-01-04</td>\n",
       "      <td>102.510002</td>\n",
       "      <td>98.930000</td>\n",
       "      <td>99.720001</td>\n",
       "      <td>101.930000</td>\n",
       "      <td>44060600.0</td>\n",
       "      <td>100.444817</td>\n",
       "    </tr>\n",
       "    <tr>\n",
       "      <td>2019-01-07</td>\n",
       "      <td>103.269997</td>\n",
       "      <td>100.980003</td>\n",
       "      <td>101.639999</td>\n",
       "      <td>102.059998</td>\n",
       "      <td>35656100.0</td>\n",
       "      <td>100.572922</td>\n",
       "    </tr>\n",
       "    <tr>\n",
       "      <td>...</td>\n",
       "      <td>...</td>\n",
       "      <td>...</td>\n",
       "      <td>...</td>\n",
       "      <td>...</td>\n",
       "      <td>...</td>\n",
       "      <td>...</td>\n",
       "    </tr>\n",
       "    <tr>\n",
       "      <td>2019-12-16</td>\n",
       "      <td>155.899994</td>\n",
       "      <td>154.820007</td>\n",
       "      <td>155.110001</td>\n",
       "      <td>155.529999</td>\n",
       "      <td>24144200.0</td>\n",
       "      <td>155.529999</td>\n",
       "    </tr>\n",
       "    <tr>\n",
       "      <td>2019-12-17</td>\n",
       "      <td>155.710007</td>\n",
       "      <td>154.449997</td>\n",
       "      <td>155.449997</td>\n",
       "      <td>154.690002</td>\n",
       "      <td>25425600.0</td>\n",
       "      <td>154.690002</td>\n",
       "    </tr>\n",
       "    <tr>\n",
       "      <td>2019-12-18</td>\n",
       "      <td>155.479996</td>\n",
       "      <td>154.179993</td>\n",
       "      <td>154.300003</td>\n",
       "      <td>154.369995</td>\n",
       "      <td>24129200.0</td>\n",
       "      <td>154.369995</td>\n",
       "    </tr>\n",
       "    <tr>\n",
       "      <td>2019-12-19</td>\n",
       "      <td>155.770004</td>\n",
       "      <td>153.750000</td>\n",
       "      <td>154.000000</td>\n",
       "      <td>155.710007</td>\n",
       "      <td>24958900.0</td>\n",
       "      <td>155.710007</td>\n",
       "    </tr>\n",
       "    <tr>\n",
       "      <td>2019-12-20</td>\n",
       "      <td>158.490005</td>\n",
       "      <td>156.289993</td>\n",
       "      <td>157.350006</td>\n",
       "      <td>157.410004</td>\n",
       "      <td>53477500.0</td>\n",
       "      <td>157.410004</td>\n",
       "    </tr>\n",
       "  </tbody>\n",
       "</table>\n",
       "<p>247 rows × 6 columns</p>\n",
       "</div>"
      ],
      "text/plain": [
       "                  High         Low        Open       Close      Volume  \\\n",
       "Date                                                                     \n",
       "2018-12-31  102.400002  100.440002  101.290001  101.570000  33173800.0   \n",
       "2019-01-02  101.750000   98.940002   99.550003  101.120003  35329300.0   \n",
       "2019-01-03  100.190002   97.199997  100.099998   97.400002  42579100.0   \n",
       "2019-01-04  102.510002   98.930000   99.720001  101.930000  44060600.0   \n",
       "2019-01-07  103.269997  100.980003  101.639999  102.059998  35656100.0   \n",
       "...                ...         ...         ...         ...         ...   \n",
       "2019-12-16  155.899994  154.820007  155.110001  155.529999  24144200.0   \n",
       "2019-12-17  155.710007  154.449997  155.449997  154.690002  25425600.0   \n",
       "2019-12-18  155.479996  154.179993  154.300003  154.369995  24129200.0   \n",
       "2019-12-19  155.770004  153.750000  154.000000  155.710007  24958900.0   \n",
       "2019-12-20  158.490005  156.289993  157.350006  157.410004  53477500.0   \n",
       "\n",
       "             Adj Close  \n",
       "Date                    \n",
       "2018-12-31  100.090057  \n",
       "2019-01-02   99.646614  \n",
       "2019-01-03   95.980820  \n",
       "2019-01-04  100.444817  \n",
       "2019-01-07  100.572922  \n",
       "...                ...  \n",
       "2019-12-16  155.529999  \n",
       "2019-12-17  154.690002  \n",
       "2019-12-18  154.369995  \n",
       "2019-12-19  155.710007  \n",
       "2019-12-20  157.410004  \n",
       "\n",
       "[247 rows x 6 columns]"
      ]
     },
     "execution_count": 72,
     "metadata": {},
     "output_type": "execute_result"
    }
   ],
   "source": [
    "stocks"
   ]
  },
  {
   "cell_type": "code",
   "execution_count": 73,
   "metadata": {},
   "outputs": [
    {
     "data": {
      "text/plain": [
       "High         1.559000e+02\n",
       "Low          1.548200e+02\n",
       "Open         1.551100e+02\n",
       "Close        1.555300e+02\n",
       "Volume       2.414420e+07\n",
       "Adj Close    1.555300e+02\n",
       "Name: 2019-12-16 00:00:00, dtype: float64"
      ]
     },
     "execution_count": 73,
     "metadata": {},
     "output_type": "execute_result"
    }
   ],
   "source": [
    "stocks.loc[\"2019-12-16\"]"
   ]
  },
  {
   "cell_type": "code",
   "execution_count": 79,
   "metadata": {},
   "outputs": [
    {
     "data": {
      "text/plain": [
       "High         1.559000e+02\n",
       "Low          1.548200e+02\n",
       "Open         1.551100e+02\n",
       "Close        1.555300e+02\n",
       "Volume       2.414420e+07\n",
       "Adj Close    1.555300e+02\n",
       "Name: 2019-12-16 00:00:00, dtype: float64"
      ]
     },
     "execution_count": 79,
     "metadata": {},
     "output_type": "execute_result"
    }
   ],
   "source": [
    "stocks.iloc[242]"
   ]
  },
  {
   "cell_type": "code",
   "execution_count": 80,
   "metadata": {},
   "outputs": [
    {
     "data": {
      "text/html": [
       "<div>\n",
       "<style scoped>\n",
       "    .dataframe tbody tr th:only-of-type {\n",
       "        vertical-align: middle;\n",
       "    }\n",
       "\n",
       "    .dataframe tbody tr th {\n",
       "        vertical-align: top;\n",
       "    }\n",
       "\n",
       "    .dataframe thead th {\n",
       "        text-align: right;\n",
       "    }\n",
       "</style>\n",
       "<table border=\"1\" class=\"dataframe\">\n",
       "  <thead>\n",
       "    <tr style=\"text-align: right;\">\n",
       "      <th></th>\n",
       "      <th>High</th>\n",
       "      <th>Low</th>\n",
       "      <th>Open</th>\n",
       "      <th>Close</th>\n",
       "      <th>Volume</th>\n",
       "      <th>Adj Close</th>\n",
       "    </tr>\n",
       "    <tr>\n",
       "      <th>Date</th>\n",
       "      <th></th>\n",
       "      <th></th>\n",
       "      <th></th>\n",
       "      <th></th>\n",
       "      <th></th>\n",
       "      <th></th>\n",
       "    </tr>\n",
       "  </thead>\n",
       "  <tbody>\n",
       "    <tr>\n",
       "      <td>2019-12-02</td>\n",
       "      <td>151.830002</td>\n",
       "      <td>148.320007</td>\n",
       "      <td>151.809998</td>\n",
       "      <td>149.550003</td>\n",
       "      <td>27418400.0</td>\n",
       "      <td>149.550003</td>\n",
       "    </tr>\n",
       "    <tr>\n",
       "      <td>2019-12-03</td>\n",
       "      <td>149.429993</td>\n",
       "      <td>146.649994</td>\n",
       "      <td>147.490005</td>\n",
       "      <td>149.309998</td>\n",
       "      <td>24066000.0</td>\n",
       "      <td>149.309998</td>\n",
       "    </tr>\n",
       "    <tr>\n",
       "      <td>2019-12-04</td>\n",
       "      <td>150.179993</td>\n",
       "      <td>149.199997</td>\n",
       "      <td>150.139999</td>\n",
       "      <td>149.850006</td>\n",
       "      <td>17574700.0</td>\n",
       "      <td>149.850006</td>\n",
       "    </tr>\n",
       "    <tr>\n",
       "      <td>2019-12-05</td>\n",
       "      <td>150.320007</td>\n",
       "      <td>149.479996</td>\n",
       "      <td>150.050003</td>\n",
       "      <td>149.929993</td>\n",
       "      <td>17869100.0</td>\n",
       "      <td>149.929993</td>\n",
       "    </tr>\n",
       "    <tr>\n",
       "      <td>2019-12-06</td>\n",
       "      <td>151.869995</td>\n",
       "      <td>150.270004</td>\n",
       "      <td>150.990005</td>\n",
       "      <td>151.750000</td>\n",
       "      <td>16403500.0</td>\n",
       "      <td>151.750000</td>\n",
       "    </tr>\n",
       "    <tr>\n",
       "      <td>2019-12-09</td>\n",
       "      <td>152.210007</td>\n",
       "      <td>150.910004</td>\n",
       "      <td>151.070007</td>\n",
       "      <td>151.360001</td>\n",
       "      <td>16687400.0</td>\n",
       "      <td>151.360001</td>\n",
       "    </tr>\n",
       "    <tr>\n",
       "      <td>2019-12-10</td>\n",
       "      <td>151.889999</td>\n",
       "      <td>150.759995</td>\n",
       "      <td>151.289993</td>\n",
       "      <td>151.130005</td>\n",
       "      <td>16476100.0</td>\n",
       "      <td>151.130005</td>\n",
       "    </tr>\n",
       "    <tr>\n",
       "      <td>2019-12-11</td>\n",
       "      <td>151.869995</td>\n",
       "      <td>150.330002</td>\n",
       "      <td>151.539993</td>\n",
       "      <td>151.699997</td>\n",
       "      <td>18856600.0</td>\n",
       "      <td>151.699997</td>\n",
       "    </tr>\n",
       "    <tr>\n",
       "      <td>2019-12-12</td>\n",
       "      <td>153.440002</td>\n",
       "      <td>151.020004</td>\n",
       "      <td>151.649994</td>\n",
       "      <td>153.240005</td>\n",
       "      <td>24612100.0</td>\n",
       "      <td>153.240005</td>\n",
       "    </tr>\n",
       "    <tr>\n",
       "      <td>2019-12-13</td>\n",
       "      <td>154.889999</td>\n",
       "      <td>152.830002</td>\n",
       "      <td>153.000000</td>\n",
       "      <td>154.529999</td>\n",
       "      <td>23845400.0</td>\n",
       "      <td>154.529999</td>\n",
       "    </tr>\n",
       "    <tr>\n",
       "      <td>2019-12-16</td>\n",
       "      <td>155.899994</td>\n",
       "      <td>154.820007</td>\n",
       "      <td>155.110001</td>\n",
       "      <td>155.529999</td>\n",
       "      <td>24144200.0</td>\n",
       "      <td>155.529999</td>\n",
       "    </tr>\n",
       "  </tbody>\n",
       "</table>\n",
       "</div>"
      ],
      "text/plain": [
       "                  High         Low        Open       Close      Volume  \\\n",
       "Date                                                                     \n",
       "2019-12-02  151.830002  148.320007  151.809998  149.550003  27418400.0   \n",
       "2019-12-03  149.429993  146.649994  147.490005  149.309998  24066000.0   \n",
       "2019-12-04  150.179993  149.199997  150.139999  149.850006  17574700.0   \n",
       "2019-12-05  150.320007  149.479996  150.050003  149.929993  17869100.0   \n",
       "2019-12-06  151.869995  150.270004  150.990005  151.750000  16403500.0   \n",
       "2019-12-09  152.210007  150.910004  151.070007  151.360001  16687400.0   \n",
       "2019-12-10  151.889999  150.759995  151.289993  151.130005  16476100.0   \n",
       "2019-12-11  151.869995  150.330002  151.539993  151.699997  18856600.0   \n",
       "2019-12-12  153.440002  151.020004  151.649994  153.240005  24612100.0   \n",
       "2019-12-13  154.889999  152.830002  153.000000  154.529999  23845400.0   \n",
       "2019-12-16  155.899994  154.820007  155.110001  155.529999  24144200.0   \n",
       "\n",
       "             Adj Close  \n",
       "Date                    \n",
       "2019-12-02  149.550003  \n",
       "2019-12-03  149.309998  \n",
       "2019-12-04  149.850006  \n",
       "2019-12-05  149.929993  \n",
       "2019-12-06  151.750000  \n",
       "2019-12-09  151.360001  \n",
       "2019-12-10  151.130005  \n",
       "2019-12-11  151.699997  \n",
       "2019-12-12  153.240005  \n",
       "2019-12-13  154.529999  \n",
       "2019-12-16  155.529999  "
      ]
     },
     "execution_count": 80,
     "metadata": {},
     "output_type": "execute_result"
    }
   ],
   "source": [
    "stocks.loc[\"2019-12-1\": \"2019-12-16\"]"
   ]
  },
  {
   "cell_type": "code",
   "execution_count": 81,
   "metadata": {},
   "outputs": [
    {
     "data": {
      "text/html": [
       "<div>\n",
       "<style scoped>\n",
       "    .dataframe tbody tr th:only-of-type {\n",
       "        vertical-align: middle;\n",
       "    }\n",
       "\n",
       "    .dataframe tbody tr th {\n",
       "        vertical-align: top;\n",
       "    }\n",
       "\n",
       "    .dataframe thead th {\n",
       "        text-align: right;\n",
       "    }\n",
       "</style>\n",
       "<table border=\"1\" class=\"dataframe\">\n",
       "  <thead>\n",
       "    <tr style=\"text-align: right;\">\n",
       "      <th></th>\n",
       "      <th>High</th>\n",
       "      <th>Low</th>\n",
       "      <th>Open</th>\n",
       "      <th>Close</th>\n",
       "      <th>Volume</th>\n",
       "      <th>Adj Close</th>\n",
       "    </tr>\n",
       "    <tr>\n",
       "      <th>Date</th>\n",
       "      <th></th>\n",
       "      <th></th>\n",
       "      <th></th>\n",
       "      <th></th>\n",
       "      <th></th>\n",
       "      <th></th>\n",
       "    </tr>\n",
       "  </thead>\n",
       "  <tbody>\n",
       "    <tr>\n",
       "      <td>2019-12-02</td>\n",
       "      <td>151.830002</td>\n",
       "      <td>148.320007</td>\n",
       "      <td>151.809998</td>\n",
       "      <td>149.550003</td>\n",
       "      <td>27418400.0</td>\n",
       "      <td>149.550003</td>\n",
       "    </tr>\n",
       "    <tr>\n",
       "      <td>2019-12-03</td>\n",
       "      <td>149.429993</td>\n",
       "      <td>146.649994</td>\n",
       "      <td>147.490005</td>\n",
       "      <td>149.309998</td>\n",
       "      <td>24066000.0</td>\n",
       "      <td>149.309998</td>\n",
       "    </tr>\n",
       "    <tr>\n",
       "      <td>2019-12-04</td>\n",
       "      <td>150.179993</td>\n",
       "      <td>149.199997</td>\n",
       "      <td>150.139999</td>\n",
       "      <td>149.850006</td>\n",
       "      <td>17574700.0</td>\n",
       "      <td>149.850006</td>\n",
       "    </tr>\n",
       "    <tr>\n",
       "      <td>2019-12-05</td>\n",
       "      <td>150.320007</td>\n",
       "      <td>149.479996</td>\n",
       "      <td>150.050003</td>\n",
       "      <td>149.929993</td>\n",
       "      <td>17869100.0</td>\n",
       "      <td>149.929993</td>\n",
       "    </tr>\n",
       "    <tr>\n",
       "      <td>2019-12-06</td>\n",
       "      <td>151.869995</td>\n",
       "      <td>150.270004</td>\n",
       "      <td>150.990005</td>\n",
       "      <td>151.750000</td>\n",
       "      <td>16403500.0</td>\n",
       "      <td>151.750000</td>\n",
       "    </tr>\n",
       "    <tr>\n",
       "      <td>2019-12-09</td>\n",
       "      <td>152.210007</td>\n",
       "      <td>150.910004</td>\n",
       "      <td>151.070007</td>\n",
       "      <td>151.360001</td>\n",
       "      <td>16687400.0</td>\n",
       "      <td>151.360001</td>\n",
       "    </tr>\n",
       "    <tr>\n",
       "      <td>2019-12-10</td>\n",
       "      <td>151.889999</td>\n",
       "      <td>150.759995</td>\n",
       "      <td>151.289993</td>\n",
       "      <td>151.130005</td>\n",
       "      <td>16476100.0</td>\n",
       "      <td>151.130005</td>\n",
       "    </tr>\n",
       "    <tr>\n",
       "      <td>2019-12-11</td>\n",
       "      <td>151.869995</td>\n",
       "      <td>150.330002</td>\n",
       "      <td>151.539993</td>\n",
       "      <td>151.699997</td>\n",
       "      <td>18856600.0</td>\n",
       "      <td>151.699997</td>\n",
       "    </tr>\n",
       "    <tr>\n",
       "      <td>2019-12-12</td>\n",
       "      <td>153.440002</td>\n",
       "      <td>151.020004</td>\n",
       "      <td>151.649994</td>\n",
       "      <td>153.240005</td>\n",
       "      <td>24612100.0</td>\n",
       "      <td>153.240005</td>\n",
       "    </tr>\n",
       "    <tr>\n",
       "      <td>2019-12-13</td>\n",
       "      <td>154.889999</td>\n",
       "      <td>152.830002</td>\n",
       "      <td>153.000000</td>\n",
       "      <td>154.529999</td>\n",
       "      <td>23845400.0</td>\n",
       "      <td>154.529999</td>\n",
       "    </tr>\n",
       "    <tr>\n",
       "      <td>2019-12-16</td>\n",
       "      <td>155.899994</td>\n",
       "      <td>154.820007</td>\n",
       "      <td>155.110001</td>\n",
       "      <td>155.529999</td>\n",
       "      <td>24144200.0</td>\n",
       "      <td>155.529999</td>\n",
       "    </tr>\n",
       "  </tbody>\n",
       "</table>\n",
       "</div>"
      ],
      "text/plain": [
       "                  High         Low        Open       Close      Volume  \\\n",
       "Date                                                                     \n",
       "2019-12-02  151.830002  148.320007  151.809998  149.550003  27418400.0   \n",
       "2019-12-03  149.429993  146.649994  147.490005  149.309998  24066000.0   \n",
       "2019-12-04  150.179993  149.199997  150.139999  149.850006  17574700.0   \n",
       "2019-12-05  150.320007  149.479996  150.050003  149.929993  17869100.0   \n",
       "2019-12-06  151.869995  150.270004  150.990005  151.750000  16403500.0   \n",
       "2019-12-09  152.210007  150.910004  151.070007  151.360001  16687400.0   \n",
       "2019-12-10  151.889999  150.759995  151.289993  151.130005  16476100.0   \n",
       "2019-12-11  151.869995  150.330002  151.539993  151.699997  18856600.0   \n",
       "2019-12-12  153.440002  151.020004  151.649994  153.240005  24612100.0   \n",
       "2019-12-13  154.889999  152.830002  153.000000  154.529999  23845400.0   \n",
       "2019-12-16  155.899994  154.820007  155.110001  155.529999  24144200.0   \n",
       "\n",
       "             Adj Close  \n",
       "Date                    \n",
       "2019-12-02  149.550003  \n",
       "2019-12-03  149.309998  \n",
       "2019-12-04  149.850006  \n",
       "2019-12-05  149.929993  \n",
       "2019-12-06  151.750000  \n",
       "2019-12-09  151.360001  \n",
       "2019-12-10  151.130005  \n",
       "2019-12-11  151.699997  \n",
       "2019-12-12  153.240005  \n",
       "2019-12-13  154.529999  \n",
       "2019-12-16  155.529999  "
      ]
     },
     "execution_count": 81,
     "metadata": {},
     "output_type": "execute_result"
    }
   ],
   "source": [
    "stocks.truncate(before = \"2019-12-1\", after = '2019-12-16')"
   ]
  },
  {
   "cell_type": "markdown",
   "metadata": {},
   "source": [
    "### `Timedelta` "
   ]
  },
  {
   "cell_type": "code",
   "execution_count": 87,
   "metadata": {},
   "outputs": [],
   "source": [
    "timeA = pd.Timestamp('2019-12-22 17:23:34')\n",
    "timeB = pd.Timestamp('2019-12-23 19:03:14')"
   ]
  },
  {
   "cell_type": "code",
   "execution_count": 88,
   "metadata": {},
   "outputs": [
    {
     "data": {
      "text/plain": [
       "Timedelta('1 days 01:39:40')"
      ]
     },
     "execution_count": 88,
     "metadata": {},
     "output_type": "execute_result"
    }
   ],
   "source": [
    "timeB-timeA"
   ]
  },
  {
   "cell_type": "code",
   "execution_count": 89,
   "metadata": {},
   "outputs": [
    {
     "data": {
      "text/plain": [
       "Timedelta('72 days 03:23:00')"
      ]
     },
     "execution_count": 89,
     "metadata": {},
     "output_type": "execute_result"
    }
   ],
   "source": [
    "pd.Timedelta(weeks = 10, days = 2, hours = 3, minutes = 23)"
   ]
  },
  {
   "cell_type": "code",
   "execution_count": 94,
   "metadata": {},
   "outputs": [
    {
     "name": "stdout",
     "output_type": "stream",
     "text": [
      "<class 'pandas.core.frame.DataFrame'>\n",
      "Int64Index: 501 entries, 1 to 997\n",
      "Data columns (total 2 columns):\n",
      "order_date       501 non-null datetime64[ns]\n",
      "delivery_date    501 non-null datetime64[ns]\n",
      "dtypes: datetime64[ns](2)\n",
      "memory usage: 11.7 KB\n"
     ]
    }
   ],
   "source": [
    "df = pd.read_csv('ecommerce.csv', index_col='ID', parse_dates = ['order_date', 'delivery_date'])\n",
    "df.info()"
   ]
  },
  {
   "cell_type": "code",
   "execution_count": 95,
   "metadata": {},
   "outputs": [
    {
     "data": {
      "text/html": [
       "<div>\n",
       "<style scoped>\n",
       "    .dataframe tbody tr th:only-of-type {\n",
       "        vertical-align: middle;\n",
       "    }\n",
       "\n",
       "    .dataframe tbody tr th {\n",
       "        vertical-align: top;\n",
       "    }\n",
       "\n",
       "    .dataframe thead th {\n",
       "        text-align: right;\n",
       "    }\n",
       "</style>\n",
       "<table border=\"1\" class=\"dataframe\">\n",
       "  <thead>\n",
       "    <tr style=\"text-align: right;\">\n",
       "      <th></th>\n",
       "      <th>order_date</th>\n",
       "      <th>delivery_date</th>\n",
       "    </tr>\n",
       "    <tr>\n",
       "      <th>ID</th>\n",
       "      <th></th>\n",
       "      <th></th>\n",
       "    </tr>\n",
       "  </thead>\n",
       "  <tbody>\n",
       "    <tr>\n",
       "      <td>1</td>\n",
       "      <td>1998-05-24</td>\n",
       "      <td>1999-02-05</td>\n",
       "    </tr>\n",
       "    <tr>\n",
       "      <td>2</td>\n",
       "      <td>1992-04-22</td>\n",
       "      <td>1998-03-06</td>\n",
       "    </tr>\n",
       "    <tr>\n",
       "      <td>4</td>\n",
       "      <td>1991-02-10</td>\n",
       "      <td>1992-08-26</td>\n",
       "    </tr>\n",
       "    <tr>\n",
       "      <td>5</td>\n",
       "      <td>1992-07-21</td>\n",
       "      <td>1997-11-20</td>\n",
       "    </tr>\n",
       "    <tr>\n",
       "      <td>7</td>\n",
       "      <td>1993-09-02</td>\n",
       "      <td>1998-06-10</td>\n",
       "    </tr>\n",
       "  </tbody>\n",
       "</table>\n",
       "</div>"
      ],
      "text/plain": [
       "   order_date delivery_date\n",
       "ID                         \n",
       "1  1998-05-24    1999-02-05\n",
       "2  1992-04-22    1998-03-06\n",
       "4  1991-02-10    1992-08-26\n",
       "5  1992-07-21    1997-11-20\n",
       "7  1993-09-02    1998-06-10"
      ]
     },
     "execution_count": 95,
     "metadata": {},
     "output_type": "execute_result"
    }
   ],
   "source": [
    "df.head()"
   ]
  },
  {
   "cell_type": "code",
   "execution_count": 96,
   "metadata": {},
   "outputs": [],
   "source": [
    "df['Delivery Time'] = df['delivery_date'] - df['order_date']"
   ]
  },
  {
   "cell_type": "code",
   "execution_count": 97,
   "metadata": {},
   "outputs": [
    {
     "data": {
      "text/html": [
       "<div>\n",
       "<style scoped>\n",
       "    .dataframe tbody tr th:only-of-type {\n",
       "        vertical-align: middle;\n",
       "    }\n",
       "\n",
       "    .dataframe tbody tr th {\n",
       "        vertical-align: top;\n",
       "    }\n",
       "\n",
       "    .dataframe thead th {\n",
       "        text-align: right;\n",
       "    }\n",
       "</style>\n",
       "<table border=\"1\" class=\"dataframe\">\n",
       "  <thead>\n",
       "    <tr style=\"text-align: right;\">\n",
       "      <th></th>\n",
       "      <th>order_date</th>\n",
       "      <th>delivery_date</th>\n",
       "      <th>Delivery Time</th>\n",
       "    </tr>\n",
       "    <tr>\n",
       "      <th>ID</th>\n",
       "      <th></th>\n",
       "      <th></th>\n",
       "      <th></th>\n",
       "    </tr>\n",
       "  </thead>\n",
       "  <tbody>\n",
       "    <tr>\n",
       "      <td>1</td>\n",
       "      <td>1998-05-24</td>\n",
       "      <td>1999-02-05</td>\n",
       "      <td>257 days</td>\n",
       "    </tr>\n",
       "    <tr>\n",
       "      <td>2</td>\n",
       "      <td>1992-04-22</td>\n",
       "      <td>1998-03-06</td>\n",
       "      <td>2144 days</td>\n",
       "    </tr>\n",
       "    <tr>\n",
       "      <td>4</td>\n",
       "      <td>1991-02-10</td>\n",
       "      <td>1992-08-26</td>\n",
       "      <td>563 days</td>\n",
       "    </tr>\n",
       "    <tr>\n",
       "      <td>5</td>\n",
       "      <td>1992-07-21</td>\n",
       "      <td>1997-11-20</td>\n",
       "      <td>1948 days</td>\n",
       "    </tr>\n",
       "    <tr>\n",
       "      <td>7</td>\n",
       "      <td>1993-09-02</td>\n",
       "      <td>1998-06-10</td>\n",
       "      <td>1742 days</td>\n",
       "    </tr>\n",
       "  </tbody>\n",
       "</table>\n",
       "</div>"
      ],
      "text/plain": [
       "   order_date delivery_date Delivery Time\n",
       "ID                                       \n",
       "1  1998-05-24    1999-02-05      257 days\n",
       "2  1992-04-22    1998-03-06     2144 days\n",
       "4  1991-02-10    1992-08-26      563 days\n",
       "5  1992-07-21    1997-11-20     1948 days\n",
       "7  1993-09-02    1998-06-10     1742 days"
      ]
     },
     "execution_count": 97,
     "metadata": {},
     "output_type": "execute_result"
    }
   ],
   "source": [
    "df.head()"
   ]
  },
  {
   "cell_type": "code",
   "execution_count": null,
   "metadata": {},
   "outputs": [],
   "source": []
  },
  {
   "cell_type": "code",
   "execution_count": null,
   "metadata": {},
   "outputs": [],
   "source": []
  },
  {
   "cell_type": "code",
   "execution_count": null,
   "metadata": {},
   "outputs": [],
   "source": []
  },
  {
   "cell_type": "code",
   "execution_count": null,
   "metadata": {},
   "outputs": [],
   "source": []
  },
  {
   "cell_type": "code",
   "execution_count": null,
   "metadata": {},
   "outputs": [],
   "source": []
  },
  {
   "cell_type": "code",
   "execution_count": null,
   "metadata": {},
   "outputs": [],
   "source": []
  },
  {
   "cell_type": "code",
   "execution_count": null,
   "metadata": {},
   "outputs": [],
   "source": []
  },
  {
   "cell_type": "code",
   "execution_count": null,
   "metadata": {},
   "outputs": [],
   "source": []
  },
  {
   "cell_type": "code",
   "execution_count": null,
   "metadata": {},
   "outputs": [],
   "source": []
  },
  {
   "cell_type": "code",
   "execution_count": null,
   "metadata": {},
   "outputs": [],
   "source": []
  },
  {
   "cell_type": "code",
   "execution_count": null,
   "metadata": {},
   "outputs": [],
   "source": []
  },
  {
   "cell_type": "code",
   "execution_count": null,
   "metadata": {},
   "outputs": [],
   "source": []
  },
  {
   "cell_type": "code",
   "execution_count": null,
   "metadata": {},
   "outputs": [],
   "source": []
  },
  {
   "cell_type": "code",
   "execution_count": null,
   "metadata": {},
   "outputs": [],
   "source": []
  },
  {
   "cell_type": "code",
   "execution_count": null,
   "metadata": {},
   "outputs": [],
   "source": []
  },
  {
   "cell_type": "code",
   "execution_count": null,
   "metadata": {},
   "outputs": [],
   "source": []
  },
  {
   "cell_type": "code",
   "execution_count": null,
   "metadata": {},
   "outputs": [],
   "source": []
  },
  {
   "cell_type": "code",
   "execution_count": null,
   "metadata": {},
   "outputs": [],
   "source": []
  },
  {
   "cell_type": "code",
   "execution_count": null,
   "metadata": {},
   "outputs": [],
   "source": []
  }
 ],
 "metadata": {
  "kernelspec": {
   "display_name": "Python 3",
   "language": "python",
   "name": "python3"
  },
  "language_info": {
   "codemirror_mode": {
    "name": "ipython",
    "version": 3
   },
   "file_extension": ".py",
   "mimetype": "text/x-python",
   "name": "python",
   "nbconvert_exporter": "python",
   "pygments_lexer": "ipython3",
   "version": "3.7.4"
  }
 },
 "nbformat": 4,
 "nbformat_minor": 2
}
